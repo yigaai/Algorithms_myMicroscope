{
 "cells": [
  {
   "cell_type": "markdown",
   "id": "d77ab489-a85a-408f-a5a4-8feeaacc9fa2",
   "metadata": {},
   "source": [
    "#  😈 Algorithm "
   ]
  },
  {
   "cell_type": "markdown",
   "id": "bf647861-baa2-440b-99c2-9a902294ef30",
   "metadata": {},
   "source": [
    "###  1. Binary Search "
   ]
  },
  {
   "cell_type": "code",
   "execution_count": 13,
   "id": "15e0101b-2596-461d-805f-88f8a37f7c1e",
   "metadata": {},
   "outputs": [
    {
     "name": "stdout",
     "output_type": "stream",
     "text": [
      "1\n"
     ]
    }
   ],
   "source": [
    "def binary_search(list, item):\n",
    "    low = 0 \n",
    "    high = len(list) - 1 \n",
    "\n",
    "    while low <= high: \n",
    "        mid = (low + high) // 2 \n",
    "        guess = list[mid] \n",
    "\n",
    "        if guess == item: \n",
    "            return mid \n",
    "        elif guess < item: \n",
    "            low = mid + 1 \n",
    "        else: \n",
    "            high = mid - 1 \n",
    "            \n",
    "    return None \n",
    "\n",
    "my_list = [1, 3, 5, 7, 9] \n",
    "print(binary_search(my_list, 3)) "
   ]
  },
  {
   "cell_type": "markdown",
   "id": "f71d6a4b-b1f5-4f15-813a-8754f5dca31e",
   "metadata": {},
   "source": [
    "### 2. TwoSum Problem "
   ]
  },
  {
   "cell_type": "markdown",
   "id": "ce3abedf-4b4f-463e-a3ba-62fd786448e5",
   "metadata": {},
   "source": [
    "####  Solution1: Brute Force"
   ]
  },
  {
   "cell_type": "code",
   "execution_count": 11,
   "id": "64e5f047-5865-41eb-93cd-d24756f7bbef",
   "metadata": {},
   "outputs": [
    {
     "name": "stdout",
     "output_type": "stream",
     "text": [
      "[0, 2]\n"
     ]
    }
   ],
   "source": [
    "def two_sum(nums, target):\n",
    "    for i in range(len(nums)):\n",
    "        for j in range(i+1, len(nums)):\n",
    "            if nums[i] + nums[j] == target:\n",
    "                return [i, j]\n",
    "     \n",
    "        return None  \n",
    "\n",
    "my_nums = [2, 4, 7, 11] \n",
    "my_target = 9 \n",
    "\n",
    "print(two_sum(my_nums, my_target)) "
   ]
  },
  {
   "cell_type": "markdown",
   "id": "15814300-0f9b-4ccf-aae6-96709b64457e",
   "metadata": {},
   "source": [
    "#### Solution2: Hash Table"
   ]
  },
  {
   "cell_type": "code",
   "execution_count": 9,
   "id": "60361b65-cc56-4ba9-8fa7-1f204f2f218f",
   "metadata": {},
   "outputs": [
    {
     "name": "stdout",
     "output_type": "stream",
     "text": [
      "[0, 2]\n"
     ]
    }
   ],
   "source": [
    "class Solution(object):\n",
    "    def twoSum(self, nums, target):\n",
    "        nums_dict = {} \n",
    "        for i, num in enumerate(nums):\n",
    "            complement = target - num \n",
    "            if complement in nums_dict:\n",
    "                return [nums_dict[complement], i] \n",
    "            nums_dict[num] = i  \n",
    "        return None \n",
    "\n",
    "\n",
    "my_nums = [2, 4, 7, 11] \n",
    "my_target = 9 \n",
    "\n",
    "solution = Solution() \n",
    "print(solution.twoSum(my_nums, my_target))       "
   ]
  },
  {
   "cell_type": "markdown",
   "id": "36721811-c5c2-4bcd-a80e-bde4c07aaf7e",
   "metadata": {},
   "source": [
    "### 3. Container with Most Water Problem"
   ]
  },
  {
   "cell_type": "code",
   "execution_count": 7,
   "id": "c4040624-96c3-42ce-a120-1ba41d804244",
   "metadata": {},
   "outputs": [
    {
     "name": "stdout",
     "output_type": "stream",
     "text": [
      "49\n"
     ]
    }
   ],
   "source": [
    "class Solution:\n",
    "    def maxArea(self, height):\n",
    "        left = 0\n",
    "        right = len(height)-1 \n",
    "        max_area = 0 \n",
    "\n",
    "        while left < right:\n",
    "            current_height = min(height[left], height[right])\n",
    "            current_width = right - left \n",
    "            max_area = max(max_area, current_width * current_height) \n",
    "\n",
    "            if height[left] < height[right]:\n",
    "                left +=1 \n",
    "            else:\n",
    "                right-=1 \n",
    "        return max_area \n",
    "\n",
    "height = [1, 8, 6, 2, 5, 4, 8, 3, 7] \n",
    "solution = Solution() \n",
    "print(solution.maxArea(height))   "
   ]
  }
 ],
 "metadata": {
  "kernelspec": {
   "display_name": "Python [conda env:base] *",
   "language": "python",
   "name": "conda-base-py"
  },
  "language_info": {
   "codemirror_mode": {
    "name": "ipython",
    "version": 3
   },
   "file_extension": ".py",
   "mimetype": "text/x-python",
   "name": "python",
   "nbconvert_exporter": "python",
   "pygments_lexer": "ipython3",
   "version": "3.12.7"
  }
 },
 "nbformat": 4,
 "nbformat_minor": 5
}
